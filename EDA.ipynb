# EDA.ipynb content (save as a .ipynb file)

{
 "cells": [
  {
   "cell_type": "markdown",
   "metadata": {},
   "source": [
    "# Exploratory Data Analysis (EDA) for BigMart Sales Prediction"
   ]
  },
  {
   "cell_type": "code",
   "execution_count": null,
   "metadata": {},
   "outputs": [],
   "source": [
    "import pandas as pd\n",
    "import matplotlib.pyplot as plt\n",
    "import seaborn as sns\n",
    "\n",
    "# Load the training data\n",
    "train_df = pd.read_csv('train_v9rqX0R.csv')  # Replace with your train file path\n",
    "test_df = pd.read_csv('test_AbJTz2l.csv')    # Replace with your test file path\n",
    "\n",
    "# Display basic info\n",
    "print('Train Shape:', train_df.shape)\n",
    "print('Test Shape:', test_df.shape)\n",
    "train_df.head()"
   ]
  },
  {
   "cell_type": "markdown",
   "metadata": {},
   "source": [
    "## Missing Values"
   ]
  },
  {
   "cell_type": "code",
   "execution_count": null,
   "metadata": {},
   "outputs": [],
   "source": [
    "# Check missing values\n",
    "print(train_df.isnull().sum())\n",
    "\n",
    "# Visualize missing values\n",
    "plt.figure(figsize=(10, 6))\n",
    "sns.heatmap(train_df.isnull(), cbar=False, cmap='viridis')\n",
    "plt.title('Missing Values Heatmap')\n",
    "plt.show()"
   ]
  },
  {
   "cell_type": "markdown",
   "metadata": {},
   "source": [
    "## Target Variable Distribution"
   ]
  },
  {
   "cell_type": "code",
   "execution_count": null,
   "metadata": {},
   "outputs": [],
   "source": [
    "# Plot distribution of Item_Outlet_Sales\n",
    "plt.figure(figsize=(10, 6))\n",
    "sns.histplot(train_df['Item_Outlet_Sales'], bins=50, kde=True)\n",
    "plt.title('Distribution of Item_Outlet_Sales')\n",
    "plt.xlabel('Sales')\n",
    "plt.show()\n",
    "\n",
    "# Check skewness\n",
    "print('Skewness:', train_df['Item_Outlet_Sales'].skew())"
   ]
  },
  {
   "cell_type": "markdown",
   "metadata": {},
   "source": [
    "## Numerical Features"
   ]
  },
  {
   "cell_type": "code",
   "execution_count": null,
   "metadata": {},
   "outputs": [],
   "source": [
    "# Distribution of numerical features\n",
    "num_cols = ['Item_Weight', 'Item_Visibility', 'Item_MRP']\n",
    "plt.figure(figsize=(15, 5))\n",
    "for i, col in enumerate(num_cols, 1):\n",
    "    plt.subplot(1, 3, i)\n",
    "    sns.histplot(train_df[col], bins=30, kde=True)\n",
    "    plt.title(f'Distribution of {col}')\n",
    "plt.tight_layout()\n",
    "plt.show()"
   ]
  },
  {
   "cell_type": "markdown",
   "metadata": {},
   "source": [
    "## Categorical Features"
   ]
  },
  {
   "cell_type": "code",
   "execution_count": null,
   "metadata": {},
   "outputs": [],
   "source": [
    "# Sales by Outlet_Type\n",
    "plt.figure(figsize=(12, 6))\n",
    "sns.boxplot(x='Outlet_Type', y='Item_Outlet_Sales', data=train_df)\n",
    "plt.xticks(rotation=45)\n",
    "plt.title('Item_Outlet_Sales by Outlet_Type')\n",
    "plt.show()\n",
    "\n",
    "# Sales by Item_Type\n",
    "plt.figure(figsize=(12, 6))\n",
    "sns.boxplot(x='Item_Type', y='Item_Outlet_Sales', data=train_df)\n",
    "plt.xticks(rotation=90)\n",
    "plt.title('Item_Outlet_Sales by Item_Type')\n",
    "plt.show()"
   ]
  },
  {
   "cell_type": "markdown",
   "metadata": {},
   "source": [
    "## Correlation Analysis"
   ]
  },
  {
   "cell_type": "code",
   "execution_count": null,
   "metadata": {},
   "outputs": [],
   "source": [
    "# Correlation heatmap\n",
    "plt.figure(figsize=(10, 8))\n",
    "sns.heatmap(train_df[num_cols + ['Item_Outlet_Sales']].corr(), annot=True, cmap='coolwarm', fmt='.2f')\n",
    "plt.title('Correlation Heatmap')\n",
    "plt.show()"
   ]
  }
 ],
 "metadata": {
  "kernelspec": {
   "display_name": "Python 3",
   "language": "python",
   "name": "python3"
  },
  "language_info": {
   "codemirror_mode": {
    "name": "ipython",
    "version": 3
   },
   "file_extension": ".py",
   "mimetype": "text/x-python",
   "name": "python",
   "nbconvert_exporter": "python",
   "pygments_lexer": "ipython3",
   "version": "3.8.5"
  }
 },
 "nbformat": 4,
 "nbformat_minor": 4
}
